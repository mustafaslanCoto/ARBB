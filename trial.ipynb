{
 "cells": [
  {
   "cell_type": "code",
   "execution_count": 33,
   "metadata": {},
   "outputs": [],
   "source": [
    "import pandas as pd"
   ]
  },
  {
   "cell_type": "code",
   "execution_count": 32,
   "metadata": {},
   "outputs": [],
   "source": [
    "df = pd.read_excel(\"data/my_data.xlsx\")"
   ]
  },
  {
   "cell_type": "code",
   "execution_count": 34,
   "metadata": {},
   "outputs": [],
   "source": [
    "from arml import unit_root_test, plot_PACF_ACF"
   ]
  },
  {
   "cell_type": "code",
   "execution_count": 35,
   "metadata": {},
   "outputs": [
    {
     "name": "stdout",
     "output_type": "stream",
     "text": [
      "ADF p-value: 0.000000 and data is stationary at 5% significance level\n"
     ]
    },
    {
     "data": {
      "text/plain": [
       "(1.5469596472188275e-29, None)"
      ]
     },
     "execution_count": 35,
     "metadata": {},
     "output_type": "execute_result"
    }
   ],
   "source": [
    "unit_root_test(my_df[\"electricity\"], method=\"ADF\")"
   ]
  },
  {
   "cell_type": "code",
   "execution_count": 36,
   "metadata": {},
   "outputs": [
    {
     "ename": "NameError",
     "evalue": "name 'plt' is not defined",
     "output_type": "error",
     "traceback": [
      "\u001b[1;31m---------------------------------------------------------------------------\u001b[0m",
      "\u001b[1;31mNameError\u001b[0m                                 Traceback (most recent call last)",
      "\u001b[1;32mc:\\Users\\musta\\Desktop\\Github\\ARML\\trial.ipynb Cell 5\u001b[0m line \u001b[0;36m1\n\u001b[1;32m----> <a href='vscode-notebook-cell:/c%3A/Users/musta/Desktop/Github/ARML/trial.ipynb#X10sZmlsZQ%3D%3D?line=0'>1</a>\u001b[0m plot_PACF_ACF(my_df[\u001b[39m\"\u001b[39;49m\u001b[39melectricity\u001b[39;49m\u001b[39m\"\u001b[39;49m], lag_num\u001b[39m=\u001b[39;49m\u001b[39m19\u001b[39;49m)\n",
      "File \u001b[1;32mc:\\Users\\musta\\Desktop\\Github\\ARML\\arml\\main.py:24\u001b[0m, in \u001b[0;36mplot_PACF_ACF\u001b[1;34m(series, lag_num, figsize)\u001b[0m\n\u001b[0;32m     23\u001b[0m \u001b[39mdef\u001b[39;00m \u001b[39mplot_PACF_ACF\u001b[39m(series, lag_num, figsize \u001b[39m=\u001b[39m (\u001b[39m15\u001b[39m, \u001b[39m8\u001b[39m)):\n\u001b[1;32m---> 24\u001b[0m     fig, ax \u001b[39m=\u001b[39m plt\u001b[39m.\u001b[39msubplots(\u001b[39m2\u001b[39m,\u001b[39m1\u001b[39m, figsize\u001b[39m=\u001b[39mfigsize)\n\u001b[0;32m     25\u001b[0m     plot_pacf(series, lags\u001b[39m=\u001b[39m lag_num, ax \u001b[39m=\u001b[39m ax[\u001b[39m0\u001b[39m])\n\u001b[0;32m     26\u001b[0m     plot_acf(series, lags\u001b[39m=\u001b[39m lag_num, ax \u001b[39m=\u001b[39m ax[\u001b[39m1\u001b[39m])\n",
      "\u001b[1;31mNameError\u001b[0m: name 'plt' is not defined"
     ]
    }
   ],
   "source": [
    "plot_PACF_ACF(my_df[\"electricity\"], lag_num=19)"
   ]
  }
 ],
 "metadata": {
  "kernelspec": {
   "display_name": "Python 3",
   "language": "python",
   "name": "python3"
  },
  "language_info": {
   "codemirror_mode": {
    "name": "ipython",
    "version": 3
   },
   "file_extension": ".py",
   "mimetype": "text/x-python",
   "name": "python",
   "nbconvert_exporter": "python",
   "pygments_lexer": "ipython3",
   "version": "3.9.5"
  }
 },
 "nbformat": 4,
 "nbformat_minor": 2
}
